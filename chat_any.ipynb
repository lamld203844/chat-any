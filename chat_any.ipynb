{
  "nbformat": 4,
  "nbformat_minor": 0,
  "metadata": {
    "colab": {
      "provenance": [],
      "authorship_tag": "ABX9TyNEMB2C4JMB0597EBlmfpUz",
      "include_colab_link": true
    },
    "kernelspec": {
      "name": "python3",
      "display_name": "Python 3"
    },
    "language_info": {
      "name": "python"
    }
  },
  "cells": [
    {
      "cell_type": "markdown",
      "metadata": {
        "id": "view-in-github",
        "colab_type": "text"
      },
      "source": [
        "<a href=\"https://colab.research.google.com/github/lamld203844/chat-any/blob/main/chat_any.ipynb\" target=\"_parent\"><img src=\"https://colab.research.google.com/assets/colab-badge.svg\" alt=\"Open In Colab\"/></a>"
      ]
    },
    {
      "cell_type": "markdown",
      "source": [
        "# System flow"
      ],
      "metadata": {
        "id": "45zCoVjWP49j"
      }
    },
    {
      "cell_type": "code",
      "execution_count": null,
      "metadata": {
        "colab": {
          "base_uri": "https://localhost:8080/"
        },
        "id": "Yp9JFJxmLj3Z",
        "outputId": "66077aee-6fdb-4538-9326-e12cd5422c39"
      },
      "outputs": [
        {
          "output_type": "stream",
          "name": "stdout",
          "text": [
            "Cloning into 'LLMOps'...\n",
            "remote: Enumerating objects: 46, done.\u001b[K\n",
            "remote: Counting objects: 100% (46/46), done.\u001b[K\n",
            "remote: Compressing objects: 100% (27/27), done.\u001b[K\n",
            "remote: Total 46 (delta 15), reused 42 (delta 11), pack-reused 0\u001b[K\n",
            "Receiving objects: 100% (46/46), 766.79 KiB | 2.68 MiB/s, done.\n",
            "Resolving deltas: 100% (15/15), done.\n",
            "/content\n",
            "/content/LLMOps/lit-chat_with_code_RAG\n"
          ]
        }
      ],
      "source": [
        "!git clone https://github.com/lamld203844/LLMOps.git\n",
        "\n",
        "import os\n",
        "HOME = os.getcwd()\n",
        "print(HOME)\n",
        "\n",
        "%cd {HOME}/LLMOps/lit-chat_with_code_RAG"
      ]
    },
    {
      "cell_type": "markdown",
      "source": [
        "## Load file\n",
        "- load website"
      ],
      "metadata": {
        "id": "PDFzArGBiYOW"
      }
    },
    {
      "cell_type": "code",
      "source": [
        "https://cinnamon.is/en/"
      ],
      "metadata": {
        "id": "PjKWlYSriaFk"
      },
      "execution_count": null,
      "outputs": []
    },
    {
      "cell_type": "code",
      "source": [
        "%pip install -q llama-index llama-index-readers-web"
      ],
      "metadata": {
        "colab": {
          "base_uri": "https://localhost:8080/"
        },
        "id": "6-J-YLRg8a-H",
        "outputId": "7e6d30a4-b166-41da-eed0-eaa792d315d7"
      },
      "execution_count": null,
      "outputs": [
        {
          "output_type": "stream",
          "name": "stdout",
          "text": [
            "Requirement already satisfied: llama-index in /usr/local/lib/python3.10/dist-packages (0.10.38)\n",
            "Collecting llama-index-readers-web\n",
            "  Downloading llama_index_readers_web-0.1.16-py3-none-any.whl (69 kB)\n",
            "\u001b[2K     \u001b[90m━━━━━━━━━━━━━━━━━━━━━━━━━━━━━━━━━━━━━━━━\u001b[0m \u001b[32m69.8/69.8 kB\u001b[0m \u001b[31m1.6 MB/s\u001b[0m eta \u001b[36m0:00:00\u001b[0m\n",
            "\u001b[?25hRequirement already satisfied: llama-index-agent-openai<0.3.0,>=0.1.4 in /usr/local/lib/python3.10/dist-packages (from llama-index) (0.2.5)\n",
            "Requirement already satisfied: llama-index-cli<0.2.0,>=0.1.2 in /usr/local/lib/python3.10/dist-packages (from llama-index) (0.1.12)\n",
            "Requirement already satisfied: llama-index-core<0.11.0,>=0.10.38 in /usr/local/lib/python3.10/dist-packages (from llama-index) (0.10.38.post1)\n",
            "Requirement already satisfied: llama-index-embeddings-openai<0.2.0,>=0.1.5 in /usr/local/lib/python3.10/dist-packages (from llama-index) (0.1.10)\n",
            "Requirement already satisfied: llama-index-indices-managed-llama-cloud<0.2.0,>=0.1.2 in /usr/local/lib/python3.10/dist-packages (from llama-index) (0.1.6)\n",
            "Requirement already satisfied: llama-index-legacy<0.10.0,>=0.9.48 in /usr/local/lib/python3.10/dist-packages (from llama-index) (0.9.48)\n",
            "Requirement already satisfied: llama-index-llms-openai<0.2.0,>=0.1.13 in /usr/local/lib/python3.10/dist-packages (from llama-index) (0.1.20)\n",
            "Requirement already satisfied: llama-index-multi-modal-llms-openai<0.2.0,>=0.1.3 in /usr/local/lib/python3.10/dist-packages (from llama-index) (0.1.6)\n",
            "Requirement already satisfied: llama-index-program-openai<0.2.0,>=0.1.3 in /usr/local/lib/python3.10/dist-packages (from llama-index) (0.1.6)\n",
            "Requirement already satisfied: llama-index-question-gen-openai<0.2.0,>=0.1.2 in /usr/local/lib/python3.10/dist-packages (from llama-index) (0.1.3)\n",
            "Requirement already satisfied: llama-index-readers-file<0.2.0,>=0.1.4 in /usr/local/lib/python3.10/dist-packages (from llama-index) (0.1.22)\n",
            "Requirement already satisfied: llama-index-readers-llama-parse<0.2.0,>=0.1.2 in /usr/local/lib/python3.10/dist-packages (from llama-index) (0.1.4)\n",
            "Requirement already satisfied: aiohttp<4.0.0,>=3.9.1 in /usr/local/lib/python3.10/dist-packages (from llama-index-readers-web) (3.9.5)\n",
            "Requirement already satisfied: beautifulsoup4<5.0.0,>=4.12.3 in /usr/local/lib/python3.10/dist-packages (from llama-index-readers-web) (4.12.3)\n",
            "Collecting chromedriver-autoinstaller<0.7.0,>=0.6.3 (from llama-index-readers-web)\n",
            "  Downloading chromedriver_autoinstaller-0.6.4-py3-none-any.whl (7.6 kB)\n",
            "Collecting html2text<2021.0.0,>=2020.1.16 (from llama-index-readers-web)\n",
            "  Downloading html2text-2020.1.16-py3-none-any.whl (32 kB)\n",
            "Collecting newspaper3k<0.3.0,>=0.2.8 (from llama-index-readers-web)\n",
            "  Downloading newspaper3k-0.2.8-py3-none-any.whl (211 kB)\n",
            "\u001b[2K     \u001b[90m━━━━━━━━━━━━━━━━━━━━━━━━━━━━━━━━━━━━━━━━\u001b[0m \u001b[32m211.1/211.1 kB\u001b[0m \u001b[31m7.0 MB/s\u001b[0m eta \u001b[36m0:00:00\u001b[0m\n",
            "\u001b[?25hCollecting playwright<2.0,>=1.30 (from llama-index-readers-web)\n",
            "  Downloading playwright-1.44.0-py3-none-manylinux1_x86_64.whl (37.8 MB)\n",
            "\u001b[2K     \u001b[90m━━━━━━━━━━━━━━━━━━━━━━━━━━━━━━━━━━━━━━━━\u001b[0m \u001b[32m37.8/37.8 MB\u001b[0m \u001b[31m19.9 MB/s\u001b[0m eta \u001b[36m0:00:00\u001b[0m\n",
            "\u001b[?25hRequirement already satisfied: requests<3.0.0,>=2.31.0 in /usr/local/lib/python3.10/dist-packages (from llama-index-readers-web) (2.31.0)\n",
            "Collecting selenium<5.0.0,>=4.17.2 (from llama-index-readers-web)\n",
            "  Downloading selenium-4.21.0-py3-none-any.whl (9.5 MB)\n",
            "\u001b[2K     \u001b[90m━━━━━━━━━━━━━━━━━━━━━━━━━━━━━━━━━━━━━━━━\u001b[0m \u001b[32m9.5/9.5 MB\u001b[0m \u001b[31m83.1 MB/s\u001b[0m eta \u001b[36m0:00:00\u001b[0m\n",
            "\u001b[?25hCollecting spider-client<0.0.12,>=0.0.11 (from llama-index-readers-web)\n",
            "  Downloading spider-client-0.0.11.tar.gz (4.3 kB)\n",
            "  Preparing metadata (setup.py) ... \u001b[?25l\u001b[?25hdone\n",
            "Requirement already satisfied: urllib3>=1.1.0 in /usr/local/lib/python3.10/dist-packages (from llama-index-readers-web) (2.0.7)\n",
            "Requirement already satisfied: aiosignal>=1.1.2 in /usr/local/lib/python3.10/dist-packages (from aiohttp<4.0.0,>=3.9.1->llama-index-readers-web) (1.3.1)\n",
            "Requirement already satisfied: attrs>=17.3.0 in /usr/local/lib/python3.10/dist-packages (from aiohttp<4.0.0,>=3.9.1->llama-index-readers-web) (23.2.0)\n",
            "Requirement already satisfied: frozenlist>=1.1.1 in /usr/local/lib/python3.10/dist-packages (from aiohttp<4.0.0,>=3.9.1->llama-index-readers-web) (1.4.1)\n",
            "Requirement already satisfied: multidict<7.0,>=4.5 in /usr/local/lib/python3.10/dist-packages (from aiohttp<4.0.0,>=3.9.1->llama-index-readers-web) (6.0.5)\n",
            "Requirement already satisfied: yarl<2.0,>=1.0 in /usr/local/lib/python3.10/dist-packages (from aiohttp<4.0.0,>=3.9.1->llama-index-readers-web) (1.9.4)\n",
            "Requirement already satisfied: async-timeout<5.0,>=4.0 in /usr/local/lib/python3.10/dist-packages (from aiohttp<4.0.0,>=3.9.1->llama-index-readers-web) (4.0.3)\n",
            "Requirement already satisfied: soupsieve>1.2 in /usr/local/lib/python3.10/dist-packages (from beautifulsoup4<5.0.0,>=4.12.3->llama-index-readers-web) (2.5)\n",
            "Requirement already satisfied: packaging>=23.1 in /usr/local/lib/python3.10/dist-packages (from chromedriver-autoinstaller<0.7.0,>=0.6.3->llama-index-readers-web) (23.2)\n",
            "Requirement already satisfied: openai>=1.14.0 in /usr/local/lib/python3.10/dist-packages (from llama-index-agent-openai<0.3.0,>=0.1.4->llama-index) (1.30.1)\n",
            "Requirement already satisfied: PyYAML>=6.0.1 in /usr/local/lib/python3.10/dist-packages (from llama-index-core<0.11.0,>=0.10.38->llama-index) (6.0.1)\n",
            "Requirement already satisfied: SQLAlchemy[asyncio]>=1.4.49 in /usr/local/lib/python3.10/dist-packages (from llama-index-core<0.11.0,>=0.10.38->llama-index) (2.0.30)\n",
            "Requirement already satisfied: dataclasses-json in /usr/local/lib/python3.10/dist-packages (from llama-index-core<0.11.0,>=0.10.38->llama-index) (0.6.6)\n",
            "Requirement already satisfied: deprecated>=1.2.9.3 in /usr/local/lib/python3.10/dist-packages (from llama-index-core<0.11.0,>=0.10.38->llama-index) (1.2.14)\n",
            "Requirement already satisfied: dirtyjson<2.0.0,>=1.0.8 in /usr/local/lib/python3.10/dist-packages (from llama-index-core<0.11.0,>=0.10.38->llama-index) (1.0.8)\n",
            "Requirement already satisfied: fsspec>=2023.5.0 in /usr/local/lib/python3.10/dist-packages (from llama-index-core<0.11.0,>=0.10.38->llama-index) (2023.6.0)\n",
            "Requirement already satisfied: httpx in /usr/local/lib/python3.10/dist-packages (from llama-index-core<0.11.0,>=0.10.38->llama-index) (0.27.0)\n",
            "Requirement already satisfied: jsonpath-ng in /usr/local/lib/python3.10/dist-packages (from llama-index-core<0.11.0,>=0.10.38->llama-index) (1.6.1)\n",
            "Requirement already satisfied: llamaindex-py-client<0.2.0,>=0.1.18 in /usr/local/lib/python3.10/dist-packages (from llama-index-core<0.11.0,>=0.10.38->llama-index) (0.1.19)\n",
            "Requirement already satisfied: nest-asyncio<2.0.0,>=1.5.8 in /usr/local/lib/python3.10/dist-packages (from llama-index-core<0.11.0,>=0.10.38->llama-index) (1.6.0)\n",
            "Requirement already satisfied: networkx>=3.0 in /usr/local/lib/python3.10/dist-packages (from llama-index-core<0.11.0,>=0.10.38->llama-index) (3.3)\n",
            "Requirement already satisfied: nltk<4.0.0,>=3.8.1 in /usr/local/lib/python3.10/dist-packages (from llama-index-core<0.11.0,>=0.10.38->llama-index) (3.8.1)\n",
            "Requirement already satisfied: numpy in /usr/local/lib/python3.10/dist-packages (from llama-index-core<0.11.0,>=0.10.38->llama-index) (1.25.2)\n",
            "Requirement already satisfied: pandas in /usr/local/lib/python3.10/dist-packages (from llama-index-core<0.11.0,>=0.10.38->llama-index) (2.0.3)\n",
            "Requirement already satisfied: pillow>=9.0.0 in /usr/local/lib/python3.10/dist-packages (from llama-index-core<0.11.0,>=0.10.38->llama-index) (10.3.0)\n",
            "Requirement already satisfied: spacy in /usr/local/lib/python3.10/dist-packages (from llama-index-core<0.11.0,>=0.10.38->llama-index) (3.7.4)\n",
            "Requirement already satisfied: tenacity<9.0.0,>=8.2.0 in /usr/local/lib/python3.10/dist-packages (from llama-index-core<0.11.0,>=0.10.38->llama-index) (8.3.0)\n",
            "Requirement already satisfied: tiktoken>=0.3.3 in /usr/local/lib/python3.10/dist-packages (from llama-index-core<0.11.0,>=0.10.38->llama-index) (0.7.0)\n",
            "Requirement already satisfied: tqdm<5.0.0,>=4.66.1 in /usr/local/lib/python3.10/dist-packages (from llama-index-core<0.11.0,>=0.10.38->llama-index) (4.66.4)\n",
            "Requirement already satisfied: typing-extensions>=4.5.0 in /usr/local/lib/python3.10/dist-packages (from llama-index-core<0.11.0,>=0.10.38->llama-index) (4.11.0)\n",
            "Requirement already satisfied: typing-inspect>=0.8.0 in /usr/local/lib/python3.10/dist-packages (from llama-index-core<0.11.0,>=0.10.38->llama-index) (0.9.0)\n",
            "Requirement already satisfied: wrapt in /usr/local/lib/python3.10/dist-packages (from llama-index-core<0.11.0,>=0.10.38->llama-index) (1.14.1)\n",
            "Requirement already satisfied: pypdf<5.0.0,>=4.0.1 in /usr/local/lib/python3.10/dist-packages (from llama-index-readers-file<0.2.0,>=0.1.4->llama-index) (4.2.0)\n",
            "Requirement already satisfied: striprtf<0.0.27,>=0.0.26 in /usr/local/lib/python3.10/dist-packages (from llama-index-readers-file<0.2.0,>=0.1.4->llama-index) (0.0.26)\n",
            "Requirement already satisfied: llama-parse<0.5.0,>=0.4.0 in /usr/local/lib/python3.10/dist-packages (from llama-index-readers-llama-parse<0.2.0,>=0.1.2->llama-index) (0.4.3)\n",
            "Collecting cssselect>=0.9.2 (from newspaper3k<0.3.0,>=0.2.8->llama-index-readers-web)\n",
            "  Downloading cssselect-1.2.0-py2.py3-none-any.whl (18 kB)\n",
            "Requirement already satisfied: lxml>=3.6.0 in /usr/local/lib/python3.10/dist-packages (from newspaper3k<0.3.0,>=0.2.8->llama-index-readers-web) (4.9.4)\n",
            "Collecting feedparser>=5.2.1 (from newspaper3k<0.3.0,>=0.2.8->llama-index-readers-web)\n",
            "  Downloading feedparser-6.0.11-py3-none-any.whl (81 kB)\n",
            "\u001b[2K     \u001b[90m━━━━━━━━━━━━━━━━━━━━━━━━━━━━━━━━━━━━━━━━\u001b[0m \u001b[32m81.3/81.3 kB\u001b[0m \u001b[31m10.7 MB/s\u001b[0m eta \u001b[36m0:00:00\u001b[0m\n",
            "\u001b[?25hCollecting tldextract>=2.0.1 (from newspaper3k<0.3.0,>=0.2.8->llama-index-readers-web)\n",
            "  Downloading tldextract-5.1.2-py3-none-any.whl (97 kB)\n",
            "\u001b[2K     \u001b[90m━━━━━━━━━━━━━━━━━━━━━━━━━━━━━━━━━━━━━━━━\u001b[0m \u001b[32m97.6/97.6 kB\u001b[0m \u001b[31m12.2 MB/s\u001b[0m eta \u001b[36m0:00:00\u001b[0m\n",
            "\u001b[?25hCollecting feedfinder2>=0.0.4 (from newspaper3k<0.3.0,>=0.2.8->llama-index-readers-web)\n",
            "  Downloading feedfinder2-0.0.4.tar.gz (3.3 kB)\n",
            "  Preparing metadata (setup.py) ... \u001b[?25l\u001b[?25hdone\n",
            "Collecting jieba3k>=0.35.1 (from newspaper3k<0.3.0,>=0.2.8->llama-index-readers-web)\n",
            "  Downloading jieba3k-0.35.1.zip (7.4 MB)\n",
            "\u001b[2K     \u001b[90m━━━━━━━━━━━━━━━━━━━━━━━━━━━━━━━━━━━━━━━━\u001b[0m \u001b[32m7.4/7.4 MB\u001b[0m \u001b[31m79.2 MB/s\u001b[0m eta \u001b[36m0:00:00\u001b[0m\n",
            "\u001b[?25h  Preparing metadata (setup.py) ... \u001b[?25l\u001b[?25hdone\n",
            "Requirement already satisfied: python-dateutil>=2.5.3 in /usr/local/lib/python3.10/dist-packages (from newspaper3k<0.3.0,>=0.2.8->llama-index-readers-web) (2.8.2)\n",
            "Collecting tinysegmenter==0.3 (from newspaper3k<0.3.0,>=0.2.8->llama-index-readers-web)\n",
            "  Downloading tinysegmenter-0.3.tar.gz (16 kB)\n",
            "  Preparing metadata (setup.py) ... \u001b[?25l\u001b[?25hdone\n",
            "Requirement already satisfied: greenlet==3.0.3 in /usr/local/lib/python3.10/dist-packages (from playwright<2.0,>=1.30->llama-index-readers-web) (3.0.3)\n",
            "Collecting pyee==11.1.0 (from playwright<2.0,>=1.30->llama-index-readers-web)\n",
            "  Downloading pyee-11.1.0-py3-none-any.whl (15 kB)\n",
            "Requirement already satisfied: charset-normalizer<4,>=2 in /usr/local/lib/python3.10/dist-packages (from requests<3.0.0,>=2.31.0->llama-index-readers-web) (3.3.2)\n",
            "Requirement already satisfied: idna<4,>=2.5 in /usr/local/lib/python3.10/dist-packages (from requests<3.0.0,>=2.31.0->llama-index-readers-web) (3.7)\n",
            "Requirement already satisfied: certifi>=2017.4.17 in /usr/local/lib/python3.10/dist-packages (from requests<3.0.0,>=2.31.0->llama-index-readers-web) (2024.2.2)\n",
            "Collecting trio~=0.17 (from selenium<5.0.0,>=4.17.2->llama-index-readers-web)\n",
            "  Downloading trio-0.25.1-py3-none-any.whl (467 kB)\n",
            "\u001b[2K     \u001b[90m━━━━━━━━━━━━━━━━━━━━━━━━━━━━━━━━━━━━━━━━\u001b[0m \u001b[32m467.7/467.7 kB\u001b[0m \u001b[31m40.8 MB/s\u001b[0m eta \u001b[36m0:00:00\u001b[0m\n",
            "\u001b[?25hCollecting trio-websocket~=0.9 (from selenium<5.0.0,>=4.17.2->llama-index-readers-web)\n",
            "  Downloading trio_websocket-0.11.1-py3-none-any.whl (17 kB)\n",
            "Requirement already satisfied: six in /usr/local/lib/python3.10/dist-packages (from feedfinder2>=0.0.4->newspaper3k<0.3.0,>=0.2.8->llama-index-readers-web) (1.16.0)\n",
            "Collecting sgmllib3k (from feedparser>=5.2.1->newspaper3k<0.3.0,>=0.2.8->llama-index-readers-web)\n",
            "  Downloading sgmllib3k-1.0.0.tar.gz (5.8 kB)\n",
            "  Preparing metadata (setup.py) ... \u001b[?25l\u001b[?25hdone\n",
            "Requirement already satisfied: pydantic>=1.10 in /usr/local/lib/python3.10/dist-packages (from llamaindex-py-client<0.2.0,>=0.1.18->llama-index-core<0.11.0,>=0.10.38->llama-index) (2.7.1)\n",
            "Requirement already satisfied: anyio in /usr/local/lib/python3.10/dist-packages (from httpx->llama-index-core<0.11.0,>=0.10.38->llama-index) (3.7.1)\n",
            "Requirement already satisfied: httpcore==1.* in /usr/local/lib/python3.10/dist-packages (from httpx->llama-index-core<0.11.0,>=0.10.38->llama-index) (1.0.5)\n",
            "Requirement already satisfied: sniffio in /usr/local/lib/python3.10/dist-packages (from httpx->llama-index-core<0.11.0,>=0.10.38->llama-index) (1.3.1)\n",
            "Requirement already satisfied: h11<0.15,>=0.13 in /usr/local/lib/python3.10/dist-packages (from httpcore==1.*->httpx->llama-index-core<0.11.0,>=0.10.38->llama-index) (0.14.0)\n",
            "Requirement already satisfied: click in /usr/local/lib/python3.10/dist-packages (from nltk<4.0.0,>=3.8.1->llama-index-core<0.11.0,>=0.10.38->llama-index) (8.1.7)\n",
            "Requirement already satisfied: joblib in /usr/local/lib/python3.10/dist-packages (from nltk<4.0.0,>=3.8.1->llama-index-core<0.11.0,>=0.10.38->llama-index) (1.4.2)\n",
            "Requirement already satisfied: regex>=2021.8.3 in /usr/local/lib/python3.10/dist-packages (from nltk<4.0.0,>=3.8.1->llama-index-core<0.11.0,>=0.10.38->llama-index) (2023.12.25)\n",
            "Requirement already satisfied: distro<2,>=1.7.0 in /usr/lib/python3/dist-packages (from openai>=1.14.0->llama-index-agent-openai<0.3.0,>=0.1.4->llama-index) (1.7.0)\n",
            "Collecting requests-file>=1.4 (from tldextract>=2.0.1->newspaper3k<0.3.0,>=0.2.8->llama-index-readers-web)\n",
            "  Downloading requests_file-2.1.0-py2.py3-none-any.whl (4.2 kB)\n",
            "Requirement already satisfied: filelock>=3.0.8 in /usr/local/lib/python3.10/dist-packages (from tldextract>=2.0.1->newspaper3k<0.3.0,>=0.2.8->llama-index-readers-web) (3.14.0)\n",
            "Requirement already satisfied: sortedcontainers in /usr/local/lib/python3.10/dist-packages (from trio~=0.17->selenium<5.0.0,>=4.17.2->llama-index-readers-web) (2.4.0)\n",
            "Collecting outcome (from trio~=0.17->selenium<5.0.0,>=4.17.2->llama-index-readers-web)\n",
            "  Downloading outcome-1.3.0.post0-py2.py3-none-any.whl (10 kB)\n",
            "Requirement already satisfied: exceptiongroup in /usr/local/lib/python3.10/dist-packages (from trio~=0.17->selenium<5.0.0,>=4.17.2->llama-index-readers-web) (1.2.1)\n",
            "Collecting wsproto>=0.14 (from trio-websocket~=0.9->selenium<5.0.0,>=4.17.2->llama-index-readers-web)\n",
            "  Downloading wsproto-1.2.0-py3-none-any.whl (24 kB)\n",
            "Requirement already satisfied: mypy-extensions>=0.3.0 in /usr/local/lib/python3.10/dist-packages (from typing-inspect>=0.8.0->llama-index-core<0.11.0,>=0.10.38->llama-index) (1.0.0)\n",
            "Requirement already satisfied: pysocks!=1.5.7,<2.0,>=1.5.6 in /usr/local/lib/python3.10/dist-packages (from urllib3>=1.1.0->llama-index-readers-web) (1.7.1)\n",
            "Requirement already satisfied: marshmallow<4.0.0,>=3.18.0 in /usr/local/lib/python3.10/dist-packages (from dataclasses-json->llama-index-core<0.11.0,>=0.10.38->llama-index) (3.21.2)\n",
            "Requirement already satisfied: ply in /usr/local/lib/python3.10/dist-packages (from jsonpath-ng->llama-index-core<0.11.0,>=0.10.38->llama-index) (3.11)\n",
            "Requirement already satisfied: pytz>=2020.1 in /usr/local/lib/python3.10/dist-packages (from pandas->llama-index-core<0.11.0,>=0.10.38->llama-index) (2023.4)\n",
            "Requirement already satisfied: tzdata>=2022.1 in /usr/local/lib/python3.10/dist-packages (from pandas->llama-index-core<0.11.0,>=0.10.38->llama-index) (2024.1)\n",
            "Requirement already satisfied: spacy-legacy<3.1.0,>=3.0.11 in /usr/local/lib/python3.10/dist-packages (from spacy->llama-index-core<0.11.0,>=0.10.38->llama-index) (3.0.12)\n",
            "Requirement already satisfied: spacy-loggers<2.0.0,>=1.0.0 in /usr/local/lib/python3.10/dist-packages (from spacy->llama-index-core<0.11.0,>=0.10.38->llama-index) (1.0.5)\n",
            "Requirement already satisfied: murmurhash<1.1.0,>=0.28.0 in /usr/local/lib/python3.10/dist-packages (from spacy->llama-index-core<0.11.0,>=0.10.38->llama-index) (1.0.10)\n",
            "Requirement already satisfied: cymem<2.1.0,>=2.0.2 in /usr/local/lib/python3.10/dist-packages (from spacy->llama-index-core<0.11.0,>=0.10.38->llama-index) (2.0.8)\n",
            "Requirement already satisfied: preshed<3.1.0,>=3.0.2 in /usr/local/lib/python3.10/dist-packages (from spacy->llama-index-core<0.11.0,>=0.10.38->llama-index) (3.0.9)\n",
            "Requirement already satisfied: thinc<8.3.0,>=8.2.2 in /usr/local/lib/python3.10/dist-packages (from spacy->llama-index-core<0.11.0,>=0.10.38->llama-index) (8.2.3)\n",
            "Requirement already satisfied: wasabi<1.2.0,>=0.9.1 in /usr/local/lib/python3.10/dist-packages (from spacy->llama-index-core<0.11.0,>=0.10.38->llama-index) (1.1.2)\n",
            "Requirement already satisfied: srsly<3.0.0,>=2.4.3 in /usr/local/lib/python3.10/dist-packages (from spacy->llama-index-core<0.11.0,>=0.10.38->llama-index) (2.4.8)\n",
            "Requirement already satisfied: catalogue<2.1.0,>=2.0.6 in /usr/local/lib/python3.10/dist-packages (from spacy->llama-index-core<0.11.0,>=0.10.38->llama-index) (2.0.10)\n",
            "Requirement already satisfied: weasel<0.4.0,>=0.1.0 in /usr/local/lib/python3.10/dist-packages (from spacy->llama-index-core<0.11.0,>=0.10.38->llama-index) (0.3.4)\n",
            "Requirement already satisfied: typer<0.10.0,>=0.3.0 in /usr/local/lib/python3.10/dist-packages (from spacy->llama-index-core<0.11.0,>=0.10.38->llama-index) (0.9.4)\n",
            "Requirement already satisfied: smart-open<7.0.0,>=5.2.1 in /usr/local/lib/python3.10/dist-packages (from spacy->llama-index-core<0.11.0,>=0.10.38->llama-index) (6.4.0)\n",
            "Requirement already satisfied: jinja2 in /usr/local/lib/python3.10/dist-packages (from spacy->llama-index-core<0.11.0,>=0.10.38->llama-index) (3.1.4)\n",
            "Requirement already satisfied: setuptools in /usr/local/lib/python3.10/dist-packages (from spacy->llama-index-core<0.11.0,>=0.10.38->llama-index) (67.7.2)\n",
            "Requirement already satisfied: langcodes<4.0.0,>=3.2.0 in /usr/local/lib/python3.10/dist-packages (from spacy->llama-index-core<0.11.0,>=0.10.38->llama-index) (3.4.0)\n",
            "Requirement already satisfied: language-data>=1.2 in /usr/local/lib/python3.10/dist-packages (from langcodes<4.0.0,>=3.2.0->spacy->llama-index-core<0.11.0,>=0.10.38->llama-index) (1.2.0)\n",
            "Requirement already satisfied: annotated-types>=0.4.0 in /usr/local/lib/python3.10/dist-packages (from pydantic>=1.10->llamaindex-py-client<0.2.0,>=0.1.18->llama-index-core<0.11.0,>=0.10.38->llama-index) (0.6.0)\n",
            "Requirement already satisfied: pydantic-core==2.18.2 in /usr/local/lib/python3.10/dist-packages (from pydantic>=1.10->llamaindex-py-client<0.2.0,>=0.1.18->llama-index-core<0.11.0,>=0.10.38->llama-index) (2.18.2)\n",
            "Requirement already satisfied: blis<0.8.0,>=0.7.8 in /usr/local/lib/python3.10/dist-packages (from thinc<8.3.0,>=8.2.2->spacy->llama-index-core<0.11.0,>=0.10.38->llama-index) (0.7.11)\n",
            "Requirement already satisfied: confection<1.0.0,>=0.0.1 in /usr/local/lib/python3.10/dist-packages (from thinc<8.3.0,>=8.2.2->spacy->llama-index-core<0.11.0,>=0.10.38->llama-index) (0.1.4)\n",
            "Requirement already satisfied: cloudpathlib<0.17.0,>=0.7.0 in /usr/local/lib/python3.10/dist-packages (from weasel<0.4.0,>=0.1.0->spacy->llama-index-core<0.11.0,>=0.10.38->llama-index) (0.16.0)\n",
            "Requirement already satisfied: MarkupSafe>=2.0 in /usr/local/lib/python3.10/dist-packages (from jinja2->spacy->llama-index-core<0.11.0,>=0.10.38->llama-index) (2.1.5)\n",
            "Requirement already satisfied: marisa-trie>=0.7.7 in /usr/local/lib/python3.10/dist-packages (from language-data>=1.2->langcodes<4.0.0,>=3.2.0->spacy->llama-index-core<0.11.0,>=0.10.38->llama-index) (1.1.1)\n",
            "Building wheels for collected packages: tinysegmenter, spider-client, feedfinder2, jieba3k, sgmllib3k\n",
            "  Building wheel for tinysegmenter (setup.py) ... \u001b[?25l\u001b[?25hdone\n",
            "  Created wheel for tinysegmenter: filename=tinysegmenter-0.3-py3-none-any.whl size=13538 sha256=6f98502f4adc5e50035d357c288d3b25535872cc0e795dcaafe688b365938d59\n",
            "  Stored in directory: /root/.cache/pip/wheels/c8/d6/6c/384f58df48c00b9a31d638005143b5b3ac62c3d25fb1447f23\n",
            "  Building wheel for spider-client (setup.py) ... \u001b[?25l\u001b[?25hdone\n",
            "  Created wheel for spider-client: filename=spider_client-0.0.11-py3-none-any.whl size=4671 sha256=61fbe87af90da3915be57f34e532ad2299e8f393b0852e87c8a59d1f01f3149e\n",
            "  Stored in directory: /root/.cache/pip/wheels/a6/2c/b8/4c5d9aaeb679e08281debcc83c36ac61d88182cb7744891614\n",
            "  Building wheel for feedfinder2 (setup.py) ... \u001b[?25l\u001b[?25hdone\n",
            "  Created wheel for feedfinder2: filename=feedfinder2-0.0.4-py3-none-any.whl size=3340 sha256=9d7e971bdb612f2fbbb272bf68f126a06d6c7d9a7f5245bcc3263eec8b26cc6b\n",
            "  Stored in directory: /root/.cache/pip/wheels/97/02/e7/a1ff1760e12bdbaab0ac824fae5c1bc933e41c4ccd6a8f8edb\n",
            "  Building wheel for jieba3k (setup.py) ... \u001b[?25l\u001b[?25hdone\n",
            "  Created wheel for jieba3k: filename=jieba3k-0.35.1-py3-none-any.whl size=7398382 sha256=fc664392aba8a730752adb69a7d04e9b734417bc2e488f5f082b1399cb3e489a\n",
            "  Stored in directory: /root/.cache/pip/wheels/7a/c4/0c/12a9a314ecac499456c4c3b2fcc2f635a3b45a39dfbd240299\n",
            "  Building wheel for sgmllib3k (setup.py) ... \u001b[?25l\u001b[?25hdone\n",
            "  Created wheel for sgmllib3k: filename=sgmllib3k-1.0.0-py3-none-any.whl size=6049 sha256=c932f347fd2cf59eefcdc828c978d45ccb7dee8675960d0741316252f1b36203\n",
            "  Stored in directory: /root/.cache/pip/wheels/f0/69/93/a47e9d621be168e9e33c7ce60524393c0b92ae83cf6c6e89c5\n",
            "Successfully built tinysegmenter spider-client feedfinder2 jieba3k sgmllib3k\n",
            "Installing collected packages: tinysegmenter, sgmllib3k, jieba3k, wsproto, pyee, outcome, html2text, feedparser, cssselect, chromedriver-autoinstaller, trio, spider-client, requests-file, playwright, feedfinder2, trio-websocket, tldextract, selenium, newspaper3k, llama-index-readers-web\n",
            "Successfully installed chromedriver-autoinstaller-0.6.4 cssselect-1.2.0 feedfinder2-0.0.4 feedparser-6.0.11 html2text-2020.1.16 jieba3k-0.35.1 llama-index-readers-web-0.1.16 newspaper3k-0.2.8 outcome-1.3.0.post0 playwright-1.44.0 pyee-11.1.0 requests-file-2.1.0 selenium-4.21.0 sgmllib3k-1.0.0 spider-client-0.0.11 tinysegmenter-0.3 tldextract-5.1.2 trio-0.25.1 trio-websocket-0.11.1 wsproto-1.2.0\n"
          ]
        }
      ]
    },
    {
      "cell_type": "markdown",
      "source": [
        "## Load embeddings model"
      ],
      "metadata": {
        "id": "xikTNUriVNRX"
      }
    },
    {
      "cell_type": "code",
      "source": [
        "%pwd"
      ],
      "metadata": {
        "colab": {
          "base_uri": "https://localhost:8080/",
          "height": 36
        },
        "id": "UX7EBUVBaJMa",
        "outputId": "72dc5b8a-8437-42de-c832-1b22eb633a80"
      },
      "execution_count": null,
      "outputs": [
        {
          "output_type": "execute_result",
          "data": {
            "text/plain": [
              "'/content/LLMOps/lit-chat_with_code_RAG'"
            ],
            "application/vnd.google.colaboratory.intrinsic+json": {
              "type": "string"
            }
          },
          "metadata": {},
          "execution_count": 8
        }
      ]
    },
    {
      "cell_type": "code",
      "source": [
        "!pip install -q langchain_community sentence_transformers\n",
        "\n",
        "from torch import cuda\n",
        "from langchain_community.embeddings import HuggingFaceBgeEmbeddings\n",
        "\n",
        "import os\n",
        "os.environ['HF_HOME'] = 'lit-chat_with_code_RAG/weights'\n",
        "\n",
        "def load_embedding_model(\n",
        "    model_name: str = \"BAAI/bge-large-en-v1.5\",\n",
        "    device: str = \"cuda\" if cuda.is_available() else \"cpu\"\n",
        ") -> HuggingFaceBgeEmbeddings:\n",
        "    model_kwargs = {\"device\": device}\n",
        "    encode_kwargs = {\n",
        "        \"normalize_embeddings\": True\n",
        "    }  # set True to compute cosine similarity\n",
        "    embedding_model = HuggingFaceBgeEmbeddings(\n",
        "        model_name=model_name,\n",
        "        model_kwargs=model_kwargs,\n",
        "        encode_kwargs=encode_kwargs,\n",
        "    )\n",
        "    return embedding_model\n",
        "\n",
        "embedding_model = load_embedding_model()\n",
        "embedding = embedding_model.embed_query('Hello, world')\n",
        "print(embedding)"
      ],
      "metadata": {
        "colab": {
          "base_uri": "https://localhost:8080/"
        },
        "id": "XX1aUNUfNxjY",
        "outputId": "4285e7d1-f6c7-44ca-e741-1bb39cf69d25"
      },
      "execution_count": null,
      "outputs": [
        {
          "output_type": "stream",
          "name": "stderr",
          "text": [
            "/usr/local/lib/python3.10/dist-packages/huggingface_hub/file_download.py:1132: FutureWarning: `resume_download` is deprecated and will be removed in version 1.0.0. Downloads always resume when possible. If you want to force a new download, use `force_download=True`.\n",
            "  warnings.warn(\n"
          ]
        },
        {
          "output_type": "stream",
          "name": "stdout",
          "text": [
            "[0.0570748969912529, 0.002089085290208459, 0.031196100637316704, -0.02522590011358261, 0.011089175008237362, -0.0145485894754529, 0.03243298456072807, 0.02435419335961342, 0.012902908958494663, 0.047478292137384415, -0.02691935934126377, 0.005025328136980534, -0.029651692137122154, -0.00635149423032999, -0.04613000527024269, -0.013684586621820927, -0.021656915545463562, -0.024495387449860573, -0.03326606750488281, 0.020560868084430695, -0.0008339070482179523, 0.022403689101338387, -0.09311306476593018, -0.0007678320980630815, -0.01177266612648964, 0.018722308799624443, -0.002855998231098056, -0.0006272841710597277, 0.031226318329572678, 0.06863529980182648, 0.0010834576096385717, 0.03208589181303978, -0.03522685915231705, -0.049050163477659225, -0.005676851142197847, -0.022463645786046982, 0.04617384448647499, -0.05407458171248436, -0.03859327733516693, -0.02402876876294613, -0.006388620473444462, 0.0031947321258485317, 0.04964834824204445, -0.05397965386509895, -0.054031841456890106, 0.009484406560659409, 0.014419594779610634, -0.0014048655284568667, -0.006991529371589422, -0.04895460605621338, 0.006256930064409971, 0.029595820233225822, 0.029023921117186546, 0.01624421216547489, -0.006068327929824591, -0.026013759896159172, -0.04911992698907852, 0.021637074649333954, -0.020355498418211937, 0.014912770129740238, 0.0184007678180933, 0.06963714212179184, 0.006811915896832943, -0.06473489850759506, -0.009441766887903214, 0.015276544727385044, -0.009595169685781002, 0.004298892337828875, 0.018689800053834915, 0.01183659490197897, -0.04923536255955696, 0.025590693578124046, 0.014893091283738613, -0.025718415156006813, -0.047878198325634, 0.029617613181471825, -0.0024490293581038713, 0.016390206292271614, 0.004530218429863453, 0.045153263956308365, -0.014697805047035217, 0.04191118851304054, -0.009834390133619308, 0.009162199683487415, -0.045704957097768784, -0.0545237772166729, 0.019856425002217293, 0.03503948450088501, -0.008614926598966122, -0.01303066872060299, 0.02028787136077881, 0.04303177818655968, -0.01391607616096735, -0.01697430945932865, 0.052557967603206635, 0.03631340712308884, -0.019558629021048546, -0.005676208529621363, -0.01596982590854168, 0.00649372860789299, 0.04605996608734131, 0.062239404767751694, -0.06171683222055435, 0.019709104672074318, -0.03819896653294563, -0.011690310202538967, -0.0259191133081913, 0.012887638062238693, -0.02694081701338291, -0.006830807309597731, -0.02831297367811203, 0.06657016277313232, 0.011228866875171661, 0.008740183897316456, -0.004403682891279459, 0.034013014286756516, 0.004540851339697838, 0.022473597899079323, -0.02575821243226528, -0.03638622537255287, 0.009029635228216648, 0.01894393004477024, -0.0030149000231176615, -0.005627175327390432, -0.0056068180128932, -0.04627012833952904, -0.03384454920887947, 0.027127481997013092, -0.03045760840177536, 0.01863214559853077, 0.028093891218304634, 0.008400038816034794, 0.04241495579481125, 0.015563937835395336, -0.021864883601665497, -0.017410682514309883, 0.00373939354903996, 0.010248066857457161, 0.017724519595503807, -0.02267944999039173, 0.03220445290207863, -0.05387045070528984, 0.00034467261866666377, 0.09097889065742493, 0.019753791391849518, 0.04382767155766487, -0.0004807589575648308, 0.01870178058743477, -0.0073460363782942295, 0.04066065698862076, -0.015272291377186775, 0.01587960682809353, -0.0066377283073961735, 0.04593534767627716, 0.009387558326125145, 0.020093869417905807, 0.02397049032151699, -0.003925936296582222, -0.009899978525936604, 0.005016759969294071, 0.015573885291814804, 0.022703954949975014, -0.028598519042134285, 0.01775542087852955, -0.015459895133972168, 0.030187133699655533, -0.010574531741440296, 0.006479206494987011, 0.008741897530853748, -0.02319156751036644, -0.02198244072496891, -0.03701411187648773, -0.017627038061618805, 0.028088299557566643, 0.03292732685804367, 0.01926952227950096, -0.02471085637807846, -0.006884710863232613, 0.028611810877919197, 0.03244544565677643, -0.027855662629008293, 0.025887032970786095, 0.007772152312099934, 0.001287576975300908, -0.0257657952606678, 0.020727848634123802, -0.0045132115483284, 0.04120418429374695, 0.0030122140888124704, 0.0025398479774594307, 0.04556693509221077, 0.04782351851463318, -0.03357650712132454, 0.004367086570709944, 0.013286974281072617, -0.0009053683606907725, -0.05565803125500679, -0.0034548980183899403, -0.009958254173398018, -0.06654152274131775, -0.04626499116420746, 0.003065523225814104, 0.006488940678536892, -0.00801959726959467, -0.013685036450624466, 0.00955089833587408, -0.013529062271118164, 0.025699296966195107, -0.0064905728213489056, -0.007845476269721985, 0.01873125322163105, 0.011284761130809784, -0.029794791713356972, 0.047188274562358856, 0.0001817930897232145, -0.01684887893497944, -0.02960473671555519, 0.032816082239151, -0.022688880562782288, -0.012084202840924263, 0.002036178484559059, 0.0322071872651577, 0.012415813282132149, 0.0472361259162426, -0.0014002063544467092, -0.01855458877980709, -0.01247100904583931, 0.05530649051070213, -0.017963221296668053, 0.02440064214169979, -0.002197100780904293, 0.010902740061283112, -0.01676025055348873, 0.03642137348651886, -0.0016270619817078114, -0.003633754327893257, 0.046084485948085785, 0.04546715319156647, 0.029419662430882454, -0.013185949064791203, -0.028882617130875587, -0.009921596385538578, 0.07343175262212753, 0.009121691808104515, -0.014831195585429668, 0.009240765124559402, 0.03408404067158699, -0.014127866365015507, 0.010691852308809757, -0.0011361048091202974, -0.03452858328819275, 0.06248537078499794, 0.044664256274700165, -0.0016434378921985626, -0.062342751771211624, -0.030912328511476517, 0.0013966535916551948, 0.06940320879220963, -0.0653204694390297, -0.07399828732013702, 0.0073052141815423965, 0.0446796678006649, 0.05267893522977829, 0.008954820223152637, -0.021220965310931206, -0.01480276882648468, -0.0037151880096644163, 0.0341966487467289, -0.0047296094708144665, -0.05754248797893524, 0.030131282284855843, -0.0144753223285079, -0.06272988766431808, 0.03172379359602928, -0.015233983285725117, -0.004715291317552328, 0.0029131730552762747, -0.02544708549976349, 0.02049175649881363, -0.029680823907256126, -0.005534901283681393, 0.0036636460572481155, 0.019177144393324852, -0.0006718102958984673, 0.005930317100137472, -0.03514783829450607, -0.04706526920199394, -0.020337633788585663, -0.014039658941328526, 0.05330939218401909, -0.033845074474811554, 0.0008319971384480596, -0.00013851173571310937, -0.040088001638650894, -0.03808225318789482, 0.02357538789510727, -0.031794749200344086, 0.03245054930448532, -0.039560120552778244, -0.052483491599559784, -0.026495326310396194, -0.017892248928546906, 0.03913206234574318, -0.016123788431286812, -0.015595546923577785, 0.04395369440317154, 0.021533740684390068, -0.027736801654100418, 0.02271362766623497, -0.010001243092119694, -0.036397021263837814, 0.044748254120349884, 0.027740927413105965, -0.0020700646564364433, -0.013648291118443012, 0.04038364067673683, 0.04546626657247543, 0.07506630569696426, -0.01561345998197794, -0.03401060402393341, -0.01008199155330658, -0.021141452714800835, 0.015535232611000538, -0.06595410406589508, -0.013588604517281055, 0.02483883872628212, 0.00663640396669507, -0.09673070907592773, 0.01763710007071495, -0.07015509903430939, -0.06720074266195297, -0.02902657352387905, -0.0022058982867747545, 0.04990962892770767, -0.005543429870158434, 0.00019425131904426962, -0.00837813038378954, -0.0041744280606508255, -0.0015928040957078338, 0.021062426269054413, 0.037387195974588394, -0.041311658918857574, 0.018302323296666145, 0.00990630779415369, 9.257492820324842e-06, -0.00795688945800066, 0.03059125319123268, -0.040301427245140076, -0.002240111818537116, 0.039733316749334335, 0.016714194789528847, 0.0015036022523418069, -0.010486745275557041, 0.009232562966644764, -0.005966921802610159, 0.05452845245599747, -0.04913489520549774, 0.02007424458861351, 0.00978501420468092, 0.010789831168949604, -0.029873177409172058, 0.029073664918541908, 0.004892888944596052, -0.039281684905290604, 0.005390842445194721, -0.04396943375468254, -0.006989241577684879, 0.016765974462032318, 0.03182060644030571, -0.046322066336870193, 0.009820983745157719, -0.009823857806622982, -0.023022141307592392, -0.025410324335098267, -0.01915670558810234, -0.026302630081772804, 0.03703194484114647, 0.0360194556415081, -0.01152525283396244, -0.04402540996670723, -0.003931583371013403, -0.055961571633815765, 0.014024073258042336, 0.06336499005556107, 0.04147396609187126, 0.02097548171877861, -0.013614669442176819, 0.006153429392725229, 0.0009835975943133235, -0.017329171299934387, -0.020050091668963432, -0.00933937355875969, 0.0346849225461483, -0.05539083108305931, -0.019149860367178917, -0.06477580964565277, 0.06746736168861389, 0.012957549653947353, 0.05484454333782196, 0.022398697212338448, -0.019802134484052658, -0.009742336347699165, 0.020224949344992638, 0.025908486917614937, -0.00852800253778696, -0.007400594651699066, -0.033874157816171646, 0.05606093257665634, 0.014735872857272625, 0.032198723405599594, -0.053007375448942184, -0.00022432341938838363, 0.002673526294529438, 0.05084287002682686, -0.002142840763553977, 0.007614963687956333, -0.03769834339618683, 0.03757349029183388, 0.03138666972517967, 0.004871072247624397, -0.02662751078605652, -0.009587175212800503, -0.0296536423265934, 0.020831186324357986, 0.03559461981058121, -0.026215434074401855, -0.014919211156666279, -0.0559825636446476, 0.015374413691461086, 0.022954363375902176, 0.015405260026454926, -0.03989885747432709, -0.008981041610240936, -0.016784481704235077, -0.07418720424175262, 0.05588099732995033, 0.03905680030584335, -0.04286343976855278, 0.04034595564007759, -0.06864404678344727, 0.028450313955545425, 0.02228776551783085, -0.003236209973692894, 0.03536609932780266, 4.7035242459969595e-05, -0.007617501076310873, -0.023343533277511597, 0.006476293317973614, -0.010096401907503605, -0.03806368261575699, 0.02571745403110981, -0.04283786937594414, -0.014837146736681461, -0.03461224213242531, 0.008663224056363106, -0.017252886667847633, -0.007304711267352104, -0.0036195768043398857, 0.03472089767456055, 0.0044703916646540165, -0.0004733865207526833, 0.020402472466230392, 0.03357921913266182, -0.03745608776807785, -0.01711157336831093, 0.0629344955086708, -0.01920553296804428, -0.031863369047641754, 0.04731772467494011, -0.010817759670317173, -0.001622654846869409, 0.024303726851940155, 0.024973304942250252, 0.019607611000537872, -0.012171638198196888, -0.011931221932172775, 0.007888037711381912, 0.01998351514339447, 0.00523346196860075, -0.00852260272949934, -0.04933075234293938, -0.008334862999618053, -0.015401551499962807, -0.0015256910119205713, -0.002292095683515072, -0.0865868404507637, 0.018643615767359734, 0.006210991181433201, 0.036766231060028076, 0.01042526587843895, -0.005457145627588034, 0.019613349810242653, -0.030319558456540108, -0.05063817650079727, -0.03379613906145096, -0.015773924067616463, -0.05267523601651192, -0.042850106954574585, 0.025807656347751617, 0.009875391609966755, 0.03711717948317528, -0.006610943004488945, -0.03609849140048027, 0.006749361753463745, 0.004288988187909126, -0.006179078947752714, -1.1312003152852412e-05, 0.01118574570864439, -0.00017325121734756976, 0.01409666333347559, -0.007309034001082182, 0.013222298584878445, 0.021667953580617905, 0.009616266936063766, 0.02339871972799301, 0.03631463274359703, 0.035226475447416306, 0.03162918612360954, -0.021639332175254822, 0.03982742130756378, 0.01901991292834282, -0.060927603393793106, 0.018874462693929672, 0.01261403039097786, 0.003085730131715536, 0.019431864842772484, 0.03813125565648079, -0.027961766347289085, -0.016269706189632416, -0.07383354753255844, 0.0037727057933807373, -0.03651709854602814, -0.02617274597287178, -0.04513220489025116, 0.004278489388525486, 0.0010610709432512522, 0.0019762497395277023, 0.009974594227969646, -0.03922238573431969, 0.020585959777235985, -0.052100904285907745, 0.03455252945423126, -0.05791362375020981, 0.006964337546378374, -0.03577619791030884, 0.011168468743562698, -0.04018223658204079, 0.033470168709754944, -0.05442860350012779, 0.0005416988860815763, -0.02017161436378956, -0.004924395587295294, -0.015991032123565674, 0.04918718710541725, -0.025624962523579597, -0.012778651900589466, 0.025806525722146034, -0.009639008902013302, -0.019775236025452614, 0.01951698400080204, -0.012171236798167229, 0.056128062307834625, -0.03853265941143036, -0.022720972076058388, -0.05307391285896301, 0.010009584948420525, -0.004125626757740974, 0.027064932510256767, 0.03795447200536728, 0.020159821957349777, -0.022417105734348297, -0.010466967709362507, 0.045191165059804916, 0.02124401181936264, -0.054128825664520264, -0.046688586473464966, -0.03217146545648575, -0.03237415477633476, -0.03545120730996132, -0.007654130458831787, 0.02212146855890751, -0.002369991969317198, -0.03109811060130596, 0.008830959908664227, 0.032061632722616196, -0.04699376970529556, -0.00412927707657218, 0.0977843776345253, 0.03496792912483215, 0.004306902177631855, -0.10574280470609665, 0.03195365145802498, 0.032966796308755875, -0.017641136422753334, -0.019536791369318962, 0.022064004093408585, -0.0002685842919163406, -0.017362602055072784, 0.0003877771378029138, -0.012249575927853584, -0.0513901486992836, 0.03172369301319122, 0.07410348206758499, -0.00832012016326189, 0.02289312146604061, 0.022604191675782204, -0.052569713443517685, -0.03691539168357849, 0.030885107815265656, 0.03286208212375641, -0.015178735367953777, 0.03976200893521309, 0.029128458350896835, -0.020052580162882805, 0.03381062671542168, -0.019475562497973442, -0.03040153533220291, -0.008204087615013123, 0.0368412621319294, 0.03694149851799011, 0.011556912213563919, 0.03378642722964287, 0.024211116135120392, -0.058090366423130035, -0.08554472029209137, -0.03643867373466492, -0.018802152946591377, -0.03226219117641449, -0.020497534424066544, 0.021074924618005753, 0.007613248657435179, -0.044233594089746475, 0.0012780734105035663, 0.004661316052079201, 0.002017612336203456, -0.005356254521757364, -0.005412068217992783, 0.031205063685774803, 0.008602816611528397, 0.02259356528520584, 0.05193458870053291, -0.05091293901205063, 0.031199360266327858, -0.0485888235270977, -0.015153913758695126, -0.02663240022957325, 0.007120789028704166, 0.017389288172125816, -0.00251331040635705, 0.035001661628484726, 0.037079330533742905, -0.0008681790204718709, 0.030038505792617798, -0.03474881872534752, -0.0034109093248844147, 0.012953804805874825, -0.04122045263648033, -0.04104001820087433, 0.0064499713480472565, 0.020863790065050125, -0.019571729004383087, 0.0005984223680570722, -0.023712951689958572, -0.013214257545769215, 0.011517573148012161, 0.020722756162285805, -0.01291661337018013, -0.015462310053408146, -0.007989571429789066, -0.08625567704439163, -0.04289345070719719, -0.018497971817851067, -0.030646318569779396, 0.01744275726377964, 0.014971200376749039, 0.0018323843833059072, 0.017150500789284706, -0.03429992124438286, 0.011571330018341541, -0.015019306913018227, 0.03899351507425308, -0.034750889986753464, 0.03934586048126221, -0.03651824966073036, -0.016356058418750763, -0.004142398480325937, -0.010531746782362461, -0.04372787103056908, -0.024663446471095085, -0.018172219395637512, -0.007403895724564791, -0.04515516012907028, 0.038961008191108704, 0.018355272710323334, 0.0092103760689497, -0.0024887071922421455, -0.006040126550942659, 0.03952997177839279, 0.005724666640162468, -0.017149314284324646, 0.01609199307858944, -0.0045868707820773125, -0.03430509194731712, -0.02934732660651207, -0.0014726633671671152, -0.0018308295402675867, 0.003674744861200452, 0.0023258845321834087, 0.016892196610569954, -0.0060120839625597, -0.014121838845312595, -0.03626665845513344, -0.011482041329145432, -0.06352058798074722, -0.022451475262641907, 0.009257889352738857, 0.01827281340956688, -0.04036528989672661, 0.03758305683732033, 0.008612677454948425, 0.041294071823358536, 0.01513616181910038, 0.015181678347289562, 0.011208286508917809, 0.026539219543337822, 0.01895514316856861, 0.02141396887600422, -0.017191031947731972, 0.010797190479934216, 0.02863127924501896, -0.0062418775632977486, 0.008596728555858135, 0.04144098982214928, -0.023494338616728783, -0.005695367231965065, -0.032968223094940186, -0.009428932331502438, -0.05284606292843819, -3.712965190061368e-05, -0.022127611562609673, 0.029080163687467575, 0.04589786008000374, -0.031162938103079796, -0.0026693798135966063, -0.0047921789810061455, -0.04892590641975403, 0.015787754207849503, -0.08216968178749084, -0.03607090562582016, 0.0074777198024094105, -0.014930689707398415, 0.02858627401292324, -0.005101259332150221, -0.054542213678359985, 0.05111824348568916, 0.015473801642656326, 0.0006416002288460732, -0.030869700014591217, 0.01708194613456726, 0.023120123893022537, -0.0102089187130332, -0.05501844733953476, -0.04415256902575493, 0.010420575737953186, -0.02166861481964588, 0.028638146817684174, -0.03173256665468216, -0.007025457918643951, -0.010389337316155434, -0.022570764645934105, -0.005298684351146221, 9.622253128327429e-05, -0.007358440663665533, -0.0319005511701107, 0.01208332646638155, 0.007322629448026419, 0.04166577756404877, -0.05565549433231354, 0.022814637050032616, -0.028458131477236748, -0.0028056935407221317, -0.028620902448892593, -0.018164951354265213, 0.033861834555864334, -0.012939047068357468, 0.0013438070891425014, 0.029342511668801308, -0.005229400470852852, 0.03571929782629013, -0.004126420710235834, 0.010760113596916199, 0.031501274555921555, 0.034355200827121735, -0.03132825717329979, -0.021635334938764572, 0.019392814487218857, 0.03600040823221207, 0.01879037916660309, -0.003751718206331134, 0.01229006890207529, 0.03377736732363701, -0.02138262428343296, 0.021114520728588104, 0.001228609587997198, 0.013250092044472694, 0.01451354194432497, 0.004459781106561422, 0.008016522973775864, -0.03028126247227192, 0.008325602859258652, -0.02263885736465454, 0.0260799340903759, -0.011938207782804966, -0.04609861597418785, -0.05425304174423218, -0.01908225007355213, 0.03354956954717636, 0.028055768460035324, -0.016152936965227127, -0.013392302207648754, -0.008823147043585777, 0.01797429472208023, 0.05846673250198364, 0.014668966643512249, 0.016519151628017426, 0.04702800512313843, 0.026091551408171654, 0.01624143309891224, 0.017476055771112442, 0.033550113439559937, 0.02751111052930355, -0.052910275757312775, 0.012764246203005314, 0.007894863374531269, 0.004364752676337957, -0.007870440371334553, 0.027366265654563904, -0.023123789578676224, 0.041491080075502396, -0.02473144605755806, 0.04320395365357399, 0.02956302836537361, -0.054346293210983276, -0.017065297812223434, -0.06394201517105103, 0.02534388191998005, -0.017784450203180313, 0.0066800485365092754, 0.03170686215162277, -0.02463824301958084, -0.014295722357928753, 0.02850223518908024, 0.006778170354664326, 0.045820776373147964, 0.031957682222127914, 0.04455152899026871, -0.018794653937220573, 0.05950348824262619, 0.04128212109208107, -0.008700357750058174, -0.010185766033828259, 0.018298355862498283, 0.01208049338310957, 0.030402081087231636, 0.0240549985319376, -0.054414521902799606, -0.011222057044506073, -0.005150278564542532, -0.019154146313667297, 0.01900395378470421, 0.04163016378879547, 0.016109580174088478, -0.0428699292242527, 0.006809350568801165, 0.0023189727216959, -0.051193658262491226, 0.04202564060688019, 0.03902381286025047, -0.008164169266819954, -0.02267887257039547, -0.002691684989258647, -0.008668294176459312, 0.011202909983694553, 0.03167375177145004, -0.07042984664440155, 0.0015396426897495985, -0.02002018131315708, -0.036945149302482605, -0.012804219499230385, -0.04617295041680336, -0.01987636089324951, 4.665333472075872e-05, -0.011617093347012997, -0.04420384392142296, -0.023533834144473076, -0.009715921245515347, 0.015124323777854443, 0.006890347693115473, -0.022835951298475266, 0.012403727509081364, 0.01015419326722622, 0.08296870440244675, 0.00451222900301218, 0.10131633281707764, 0.01016264408826828, -0.002290532924234867, 0.0035958471707999706, 0.011740319430828094, 0.045578401535749435, 0.020598826929926872, -0.0015317372744902968, -0.015800952911376953, 0.0368971973657608, -0.008320849388837814, -0.040870409458875656, -0.0143430782482028, 0.05234856531023979, -0.004793822765350342, -0.01622883416712284, -0.026414278894662857, -0.04808305203914642, -0.05286826938390732, -0.024332379922270775, -0.005192791111767292, 0.04289618134498596, -0.025477513670921326, 0.028156280517578125, 0.000898899685125798, -0.052345044910907745, 0.24479210376739502, 0.04405517876148224, 0.008608856238424778, 0.031347669661045074, 0.007419648580253124, -0.022824138402938843, 0.01003729086369276, -0.03446875140070915, 0.029341548681259155, -0.00902047660201788, 0.003372209146618843, 0.007993648760020733, -0.005835255142301321, 0.06237740442156792, -3.8007103285053745e-05, 0.048712413758039474, -0.057876504957675934, 0.007512819021940231, -0.0005487895105034113, -0.018237801268696785, -0.04503877833485603, -0.02374514937400818, -0.0018320331582799554, 0.025242188945412636, 0.018485721200704575, -0.0025625494308769703, 0.050671063363552094, -0.03989759460091591, -0.006503875367343426, -0.026237867772579193, 0.05398893356323242, 0.014648428186774254, 0.03572539985179901, -0.008152956143021584, -0.040187571197748184, 0.019602788612246513, 0.003028787672519684, -0.03268886357545853, -0.0011511514894664288, 0.012533256784081459, 0.005719860550016165, -0.016567116603255272, -0.0008366343681700528, 0.04031289368867874, -0.0004796187567990273, 0.026823781430721283, -0.009715181775391102, 0.01159812044352293, -0.04082496464252472, -0.024607332423329353, 0.057604461908340454, -0.008753624744713306, 0.028659936040639877, -0.03966141864657402, -0.05883608013391495, 0.011631932109594345, -0.006208345293998718, 0.0059754084795713425, -0.021519675850868225, -0.007925214245915413, -0.015521591529250145, 0.033550847321748734, 0.019836893305182457, 0.0010089020943269134, -0.014132130891084671, 0.03710414469242096, 0.030245039612054825, 0.04480845481157303, -0.013498025946319103, 0.0027673239819705486, -0.03976534679532051, -0.005653258413076401, -0.03664945065975189, -0.043416205793619156, -0.007545355707406998, 0.03502638638019562, -0.044062115252017975, -0.0044830902479588985, 0.007099684793502092, -0.00044367826194502413, -0.02707063779234886, 0.012366721406579018, -0.012399803847074509, 0.0031070371624082327, 0.0009179571643471718, 0.051233723759651184, 0.01155299972742796, -0.019317926838994026, -0.003080102615058422, 0.004950245376676321, 0.0515894740819931, 0.049973975867033005, -0.025429079309105873, -0.0007678381516598165, -0.01289380993694067]\n"
          ]
        }
      ]
    },
    {
      "cell_type": "markdown",
      "source": [
        "## Load llm"
      ],
      "metadata": {
        "id": "LP1yyMtZVWKx"
      }
    },
    {
      "cell_type": "code",
      "source": [
        "!pip install -q llama-index-llms-gemini\n",
        "!pip install -q llama-index google-generativeai"
      ],
      "metadata": {
        "colab": {
          "base_uri": "https://localhost:8080/"
        },
        "id": "8KKeu4OfvX0z",
        "outputId": "9377c90c-3eab-41a5-8cb5-79e73725705b"
      },
      "execution_count": null,
      "outputs": [
        {
          "output_type": "stream",
          "name": "stdout",
          "text": [
            "\u001b[2K     \u001b[90m━━━━━━━━━━━━━━━━━━━━━━━━━━━━━━━━━━━━━━━━\u001b[0m \u001b[32m137.4/137.4 kB\u001b[0m \u001b[31m2.6 MB/s\u001b[0m eta \u001b[36m0:00:00\u001b[0m\n",
            "\u001b[2K     \u001b[90m━━━━━━━━━━━━━━━━━━━━━━━━━━━━━━━━━━━━━━━━\u001b[0m \u001b[32m4.5/4.5 MB\u001b[0m \u001b[31m10.4 MB/s\u001b[0m eta \u001b[36m0:00:00\u001b[0m\n",
            "\u001b[2K     \u001b[90m━━━━━━━━━━━━━━━━━━━━━━━━━━━━━━━━━━━━━━━━\u001b[0m \u001b[32m598.7/598.7 kB\u001b[0m \u001b[31m16.4 MB/s\u001b[0m eta \u001b[36m0:00:00\u001b[0m\n",
            "\u001b[?25h\u001b[31mERROR: pip's dependency resolver does not currently take into account all the packages that are installed. This behaviour is the source of the following dependency conflicts.\n",
            "imageio 2.31.6 requires pillow<10.1.0,>=8.3.2, but you have pillow 10.3.0 which is incompatible.\u001b[0m\u001b[31m\n",
            "\u001b[0m"
          ]
        }
      ]
    },
    {
      "cell_type": "code",
      "source": [
        "from google.colab import userdata\n",
        "from llama_index.llms.gemini import Gemini\n",
        "\n",
        "llm = Gemini(model_name=\"models/gemini-pro\", api_key=userdata.get('GOOGLE_API_KEY'))\n",
        "resp = llm.complete(\"Write a poem about a magic backpack\")\n",
        "print(resp)"
      ],
      "metadata": {
        "colab": {
          "base_uri": "https://localhost:8080/",
          "height": 582
        },
        "id": "jbbfYZZNVZeF",
        "outputId": "34b03c66-e355-42af-d044-9a8d382346ba"
      },
      "execution_count": null,
      "outputs": [
        {
          "output_type": "stream",
          "name": "stdout",
          "text": [
            "**The Magic Backpack**\n",
            "\n",
            "In a realm where dreams take flight,\n",
            "There's a backpack with powers bright.\n",
            "Its fabric shimmers, a vibrant hue,\n",
            "A portal to wonders, both old and new.\n",
            "\n",
            "With a whisper, it opens wide,\n",
            "Revealing treasures it cannot hide.\n",
            "Books of knowledge, maps of distant lands,\n",
            "Tools for adventure, at your commands.\n",
            "\n",
            "Its straps adjust, a perfect fit,\n",
            "As if it knows your every bit.\n",
            "It carries burdens, light and heavy,\n",
            "A faithful companion, always ready.\n",
            "\n",
            "Through time and space, it can transport,\n",
            "To realms unknown, where wonders retort.\n",
            "With a leap, you're whisked away,\n",
            "To worlds where magic holds sway.\n",
            "\n",
            "It's a sanctuary, a secret place,\n",
            "Where dreams unfold with boundless grace.\n",
            "Within its depths, a universe resides,\n",
            "Where imagination freely abides.\n",
            "\n",
            "So don this backpack, embrace its might,\n",
            "And embark on adventures, day and night.\n",
            "For in its magic, you'll find,\n",
            "A world of wonder, forever entwined.\n"
          ]
        }
      ]
    },
    {
      "cell_type": "markdown",
      "source": [
        "# GUI with Streamlit\n"
      ],
      "metadata": {
        "id": "JtP64HZYOXyG"
      }
    },
    {
      "cell_type": "code",
      "source": [
        "!pip install -q streamlit\n",
        "!npm install -q localtunnel"
      ],
      "metadata": {
        "colab": {
          "base_uri": "https://localhost:8080/"
        },
        "id": "y6GZs9CqOaQq",
        "outputId": "13a3694e-c26b-4d29-975c-9edec542d20d"
      },
      "execution_count": null,
      "outputs": [
        {
          "output_type": "stream",
          "name": "stdout",
          "text": [
            "\u001b[2K     \u001b[90m━━━━━━━━━━━━━━━━━━━━━━━━━━━━━━━━━━━━━━━━\u001b[0m \u001b[32m8.5/8.5 MB\u001b[0m \u001b[31m24.1 MB/s\u001b[0m eta \u001b[36m0:00:00\u001b[0m\n",
            "\u001b[2K     \u001b[90m━━━━━━━━━━━━━━━━━━━━━━━━━━━━━━━━━━━━━━━━\u001b[0m \u001b[32m207.3/207.3 kB\u001b[0m \u001b[31m8.3 MB/s\u001b[0m eta \u001b[36m0:00:00\u001b[0m\n",
            "\u001b[2K     \u001b[90m━━━━━━━━━━━━━━━━━━━━━━━━━━━━━━━━━━━━━━━━\u001b[0m \u001b[32m6.9/6.9 MB\u001b[0m \u001b[31m54.3 MB/s\u001b[0m eta \u001b[36m0:00:00\u001b[0m\n",
            "\u001b[2K     \u001b[90m━━━━━━━━━━━━━━━━━━━━━━━━━━━━━━━━━━━━━━━━\u001b[0m \u001b[32m83.0/83.0 kB\u001b[0m \u001b[31m3.1 MB/s\u001b[0m eta \u001b[36m0:00:00\u001b[0m\n",
            "\u001b[2K     \u001b[90m━━━━━━━━━━━━━━━━━━━━━━━━━━━━━━━━━━━━━━━━\u001b[0m \u001b[32m62.7/62.7 kB\u001b[0m \u001b[31m4.5 MB/s\u001b[0m eta \u001b[36m0:00:00\u001b[0m\n",
            "\u001b[K\u001b[?25h\u001b[37;40mnpm\u001b[0m \u001b[0m\u001b[30;43mWARN\u001b[0m \u001b[0m\u001b[35msaveError\u001b[0m ENOENT: no such file or directory, open '/content/package.json'\n",
            "\u001b[0m\u001b[37;40mnpm\u001b[0m \u001b[0m\u001b[30;43mWARN\u001b[0m \u001b[0m\u001b[35menoent\u001b[0m ENOENT: no such file or directory, open '/content/package.json'\n",
            "\u001b[0m\u001b[37;40mnpm\u001b[0m \u001b[0m\u001b[30;43mWARN\u001b[0m\u001b[35m\u001b[0m content No description\n",
            "\u001b[0m\u001b[37;40mnpm\u001b[0m \u001b[0m\u001b[30;43mWARN\u001b[0m\u001b[35m\u001b[0m content No repository field.\n",
            "\u001b[0m\u001b[37;40mnpm\u001b[0m \u001b[0m\u001b[30;43mWARN\u001b[0m\u001b[35m\u001b[0m content No README data\n",
            "\u001b[0m\u001b[37;40mnpm\u001b[0m \u001b[0m\u001b[30;43mWARN\u001b[0m\u001b[35m\u001b[0m content No license field.\n",
            "\u001b[0m\n",
            "+ localtunnel@2.0.2\n",
            "added 22 packages from 22 contributors and audited 22 packages in 2.27s\n",
            "\n",
            "3 packages are looking for funding\n",
            "  run `npm fund` for details\n",
            "\n",
            "found 1 \u001b[93mmoderate\u001b[0m severity vulnerability\n",
            "  run `npm audit fix` to fix them, or `npm audit` for details\n",
            "\u001b[K\u001b[?25h"
          ]
        }
      ]
    },
    {
      "cell_type": "code",
      "source": [
        "%%writefile app.py\n",
        "\n",
        "import streamlit as st\n",
        "\n",
        "st.write('Hello, *World!* :sunglasses:')"
      ],
      "metadata": {
        "colab": {
          "base_uri": "https://localhost:8080/"
        },
        "id": "kTJRvp0KOeUU",
        "outputId": "0aaee266-7a9e-438a-b87b-e7dd2c65daa8"
      },
      "execution_count": null,
      "outputs": [
        {
          "output_type": "stream",
          "name": "stdout",
          "text": [
            "Writing app.py\n"
          ]
        }
      ]
    },
    {
      "cell_type": "code",
      "source": [
        "!streamlit run app.py &>/content/logs.txt & npx localtunnel --port 8501 & curl ipv4.icanhazip.com"
      ],
      "metadata": {
        "colab": {
          "base_uri": "https://localhost:8080/"
        },
        "id": "KSpquYwROi7V",
        "outputId": "6aaf9f8a-ba79-4988-e892-98e794ae0ca8"
      },
      "execution_count": null,
      "outputs": [
        {
          "output_type": "stream",
          "name": "stdout",
          "text": [
            "104.154.193.143\n",
            "\u001b[K\u001b[?25hnpx: installed 22 in 2.266s\n",
            "your url is: https://witty-olives-hunt.loca.lt\n"
          ]
        }
      ]
    }
  ]
}